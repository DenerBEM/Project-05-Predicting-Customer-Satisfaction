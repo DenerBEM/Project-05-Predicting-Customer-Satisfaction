{
 "cells": [
  {
   "cell_type": "markdown",
   "metadata": {},
   "source": [
    "# <font color='red'>Projeto</font>\n",
    "# <font color='blue' >Prevendo o Nível de Satisfação dos Clientes do Santander</font>\n",
    "\n",
    "### Definindo o Problema de Negócio:\n",
    "Baseado em dados históricos, iremos prever se um cliente está satisfeito ou insatisfeito com sua experiência bancária"
   ]
  },
  {
   "cell_type": "code",
   "execution_count": 1,
   "metadata": {},
   "outputs": [],
   "source": [
    "# Imports\n",
    "import pandas as pd\n",
    "import numpy as np\n",
    "import matplotlib.pyplot as plt\n",
    "import seaborn as sns\n",
    "import warnings\n",
    "warnings.filterwarnings('ignore')\n",
    "\n",
    "\n",
    "%matplotlib inline"
   ]
  },
  {
   "cell_type": "code",
   "execution_count": 2,
   "metadata": {},
   "outputs": [],
   "source": [
    "train = pd.read_csv('train.csv')"
   ]
  },
  {
   "cell_type": "code",
   "execution_count": 3,
   "metadata": {},
   "outputs": [
    {
     "data": {
      "text/html": [
       "<div>\n",
       "<style scoped>\n",
       "    .dataframe tbody tr th:only-of-type {\n",
       "        vertical-align: middle;\n",
       "    }\n",
       "\n",
       "    .dataframe tbody tr th {\n",
       "        vertical-align: top;\n",
       "    }\n",
       "\n",
       "    .dataframe thead th {\n",
       "        text-align: right;\n",
       "    }\n",
       "</style>\n",
       "<table border=\"1\" class=\"dataframe\">\n",
       "  <thead>\n",
       "    <tr style=\"text-align: right;\">\n",
       "      <th></th>\n",
       "      <th>ID</th>\n",
       "      <th>var3</th>\n",
       "      <th>var15</th>\n",
       "      <th>imp_ent_var16_ult1</th>\n",
       "      <th>imp_op_var39_comer_ult1</th>\n",
       "      <th>imp_op_var39_comer_ult3</th>\n",
       "      <th>imp_op_var40_comer_ult1</th>\n",
       "      <th>imp_op_var40_comer_ult3</th>\n",
       "      <th>imp_op_var40_efect_ult1</th>\n",
       "      <th>imp_op_var40_efect_ult3</th>\n",
       "      <th>...</th>\n",
       "      <th>saldo_medio_var33_hace2</th>\n",
       "      <th>saldo_medio_var33_hace3</th>\n",
       "      <th>saldo_medio_var33_ult1</th>\n",
       "      <th>saldo_medio_var33_ult3</th>\n",
       "      <th>saldo_medio_var44_hace2</th>\n",
       "      <th>saldo_medio_var44_hace3</th>\n",
       "      <th>saldo_medio_var44_ult1</th>\n",
       "      <th>saldo_medio_var44_ult3</th>\n",
       "      <th>var38</th>\n",
       "      <th>TARGET</th>\n",
       "    </tr>\n",
       "  </thead>\n",
       "  <tbody>\n",
       "    <tr>\n",
       "      <th>0</th>\n",
       "      <td>1</td>\n",
       "      <td>2</td>\n",
       "      <td>23</td>\n",
       "      <td>0.0</td>\n",
       "      <td>0.0</td>\n",
       "      <td>0.0</td>\n",
       "      <td>0.0</td>\n",
       "      <td>0.0</td>\n",
       "      <td>0.0</td>\n",
       "      <td>0.0</td>\n",
       "      <td>...</td>\n",
       "      <td>0.0</td>\n",
       "      <td>0.0</td>\n",
       "      <td>0.0</td>\n",
       "      <td>0.0</td>\n",
       "      <td>0.0</td>\n",
       "      <td>0.0</td>\n",
       "      <td>0.0</td>\n",
       "      <td>0.0</td>\n",
       "      <td>39205.170000</td>\n",
       "      <td>0</td>\n",
       "    </tr>\n",
       "    <tr>\n",
       "      <th>1</th>\n",
       "      <td>3</td>\n",
       "      <td>2</td>\n",
       "      <td>34</td>\n",
       "      <td>0.0</td>\n",
       "      <td>0.0</td>\n",
       "      <td>0.0</td>\n",
       "      <td>0.0</td>\n",
       "      <td>0.0</td>\n",
       "      <td>0.0</td>\n",
       "      <td>0.0</td>\n",
       "      <td>...</td>\n",
       "      <td>0.0</td>\n",
       "      <td>0.0</td>\n",
       "      <td>0.0</td>\n",
       "      <td>0.0</td>\n",
       "      <td>0.0</td>\n",
       "      <td>0.0</td>\n",
       "      <td>0.0</td>\n",
       "      <td>0.0</td>\n",
       "      <td>49278.030000</td>\n",
       "      <td>0</td>\n",
       "    </tr>\n",
       "    <tr>\n",
       "      <th>2</th>\n",
       "      <td>4</td>\n",
       "      <td>2</td>\n",
       "      <td>23</td>\n",
       "      <td>0.0</td>\n",
       "      <td>0.0</td>\n",
       "      <td>0.0</td>\n",
       "      <td>0.0</td>\n",
       "      <td>0.0</td>\n",
       "      <td>0.0</td>\n",
       "      <td>0.0</td>\n",
       "      <td>...</td>\n",
       "      <td>0.0</td>\n",
       "      <td>0.0</td>\n",
       "      <td>0.0</td>\n",
       "      <td>0.0</td>\n",
       "      <td>0.0</td>\n",
       "      <td>0.0</td>\n",
       "      <td>0.0</td>\n",
       "      <td>0.0</td>\n",
       "      <td>67333.770000</td>\n",
       "      <td>0</td>\n",
       "    </tr>\n",
       "    <tr>\n",
       "      <th>3</th>\n",
       "      <td>8</td>\n",
       "      <td>2</td>\n",
       "      <td>37</td>\n",
       "      <td>0.0</td>\n",
       "      <td>195.0</td>\n",
       "      <td>195.0</td>\n",
       "      <td>0.0</td>\n",
       "      <td>0.0</td>\n",
       "      <td>0.0</td>\n",
       "      <td>0.0</td>\n",
       "      <td>...</td>\n",
       "      <td>0.0</td>\n",
       "      <td>0.0</td>\n",
       "      <td>0.0</td>\n",
       "      <td>0.0</td>\n",
       "      <td>0.0</td>\n",
       "      <td>0.0</td>\n",
       "      <td>0.0</td>\n",
       "      <td>0.0</td>\n",
       "      <td>64007.970000</td>\n",
       "      <td>0</td>\n",
       "    </tr>\n",
       "    <tr>\n",
       "      <th>4</th>\n",
       "      <td>10</td>\n",
       "      <td>2</td>\n",
       "      <td>39</td>\n",
       "      <td>0.0</td>\n",
       "      <td>0.0</td>\n",
       "      <td>0.0</td>\n",
       "      <td>0.0</td>\n",
       "      <td>0.0</td>\n",
       "      <td>0.0</td>\n",
       "      <td>0.0</td>\n",
       "      <td>...</td>\n",
       "      <td>0.0</td>\n",
       "      <td>0.0</td>\n",
       "      <td>0.0</td>\n",
       "      <td>0.0</td>\n",
       "      <td>0.0</td>\n",
       "      <td>0.0</td>\n",
       "      <td>0.0</td>\n",
       "      <td>0.0</td>\n",
       "      <td>117310.979016</td>\n",
       "      <td>0</td>\n",
       "    </tr>\n",
       "  </tbody>\n",
       "</table>\n",
       "<p>5 rows × 371 columns</p>\n",
       "</div>"
      ],
      "text/plain": [
       "   ID  var3  var15  imp_ent_var16_ult1  imp_op_var39_comer_ult1  \\\n",
       "0   1     2     23                 0.0                      0.0   \n",
       "1   3     2     34                 0.0                      0.0   \n",
       "2   4     2     23                 0.0                      0.0   \n",
       "3   8     2     37                 0.0                    195.0   \n",
       "4  10     2     39                 0.0                      0.0   \n",
       "\n",
       "   imp_op_var39_comer_ult3  imp_op_var40_comer_ult1  imp_op_var40_comer_ult3  \\\n",
       "0                      0.0                      0.0                      0.0   \n",
       "1                      0.0                      0.0                      0.0   \n",
       "2                      0.0                      0.0                      0.0   \n",
       "3                    195.0                      0.0                      0.0   \n",
       "4                      0.0                      0.0                      0.0   \n",
       "\n",
       "   imp_op_var40_efect_ult1  imp_op_var40_efect_ult3  ...  \\\n",
       "0                      0.0                      0.0  ...   \n",
       "1                      0.0                      0.0  ...   \n",
       "2                      0.0                      0.0  ...   \n",
       "3                      0.0                      0.0  ...   \n",
       "4                      0.0                      0.0  ...   \n",
       "\n",
       "   saldo_medio_var33_hace2  saldo_medio_var33_hace3  saldo_medio_var33_ult1  \\\n",
       "0                      0.0                      0.0                     0.0   \n",
       "1                      0.0                      0.0                     0.0   \n",
       "2                      0.0                      0.0                     0.0   \n",
       "3                      0.0                      0.0                     0.0   \n",
       "4                      0.0                      0.0                     0.0   \n",
       "\n",
       "   saldo_medio_var33_ult3  saldo_medio_var44_hace2  saldo_medio_var44_hace3  \\\n",
       "0                     0.0                      0.0                      0.0   \n",
       "1                     0.0                      0.0                      0.0   \n",
       "2                     0.0                      0.0                      0.0   \n",
       "3                     0.0                      0.0                      0.0   \n",
       "4                     0.0                      0.0                      0.0   \n",
       "\n",
       "   saldo_medio_var44_ult1  saldo_medio_var44_ult3          var38  TARGET  \n",
       "0                     0.0                     0.0   39205.170000       0  \n",
       "1                     0.0                     0.0   49278.030000       0  \n",
       "2                     0.0                     0.0   67333.770000       0  \n",
       "3                     0.0                     0.0   64007.970000       0  \n",
       "4                     0.0                     0.0  117310.979016       0  \n",
       "\n",
       "[5 rows x 371 columns]"
      ]
     },
     "execution_count": 3,
     "metadata": {},
     "output_type": "execute_result"
    }
   ],
   "source": [
    "# Visualizando as primeiras linhas do dataframe\n",
    "train.head()"
   ]
  },
  {
   "cell_type": "code",
   "execution_count": 4,
   "metadata": {},
   "outputs": [
    {
     "data": {
      "text/plain": [
       "array(['ID', 'var3', 'var15', 'imp_ent_var16_ult1',\n",
       "       'imp_op_var39_comer_ult1', 'imp_op_var39_comer_ult3',\n",
       "       'imp_op_var40_comer_ult1', 'imp_op_var40_comer_ult3',\n",
       "       'imp_op_var40_efect_ult1', 'imp_op_var40_efect_ult3',\n",
       "       'imp_op_var40_ult1', 'imp_op_var41_comer_ult1',\n",
       "       'imp_op_var41_comer_ult3', 'imp_op_var41_efect_ult1',\n",
       "       'imp_op_var41_efect_ult3', 'imp_op_var41_ult1',\n",
       "       'imp_op_var39_efect_ult1', 'imp_op_var39_efect_ult3',\n",
       "       'imp_op_var39_ult1', 'imp_sal_var16_ult1', 'ind_var1_0',\n",
       "       'ind_var1', 'ind_var2_0', 'ind_var2', 'ind_var5_0', 'ind_var5',\n",
       "       'ind_var6_0', 'ind_var6', 'ind_var8_0', 'ind_var8', 'ind_var12_0',\n",
       "       'ind_var12', 'ind_var13_0', 'ind_var13_corto_0', 'ind_var13_corto',\n",
       "       'ind_var13_largo_0', 'ind_var13_largo', 'ind_var13_medio_0',\n",
       "       'ind_var13_medio', 'ind_var13', 'ind_var14_0', 'ind_var14',\n",
       "       'ind_var17_0', 'ind_var17', 'ind_var18_0', 'ind_var18',\n",
       "       'ind_var19', 'ind_var20_0', 'ind_var20', 'ind_var24_0',\n",
       "       'ind_var24', 'ind_var25_cte', 'ind_var26_0', 'ind_var26_cte',\n",
       "       'ind_var26', 'ind_var25_0', 'ind_var25', 'ind_var27_0',\n",
       "       'ind_var28_0', 'ind_var28', 'ind_var27', 'ind_var29_0',\n",
       "       'ind_var29', 'ind_var30_0', 'ind_var30', 'ind_var31_0',\n",
       "       'ind_var31', 'ind_var32_cte', 'ind_var32_0', 'ind_var32',\n",
       "       'ind_var33_0', 'ind_var33', 'ind_var34_0', 'ind_var34',\n",
       "       'ind_var37_cte', 'ind_var37_0', 'ind_var37', 'ind_var39_0',\n",
       "       'ind_var40_0', 'ind_var40', 'ind_var41_0', 'ind_var41',\n",
       "       'ind_var39', 'ind_var44_0', 'ind_var44', 'ind_var46_0',\n",
       "       'ind_var46', 'num_var1_0', 'num_var1', 'num_var4', 'num_var5_0',\n",
       "       'num_var5', 'num_var6_0', 'num_var6', 'num_var8_0', 'num_var8',\n",
       "       'num_var12_0', 'num_var12', 'num_var13_0', 'num_var13_corto_0',\n",
       "       'num_var13_corto', 'num_var13_largo_0', 'num_var13_largo',\n",
       "       'num_var13_medio_0', 'num_var13_medio', 'num_var13', 'num_var14_0',\n",
       "       'num_var14', 'num_var17_0', 'num_var17', 'num_var18_0',\n",
       "       'num_var18', 'num_var20_0', 'num_var20', 'num_var24_0',\n",
       "       'num_var24', 'num_var26_0', 'num_var26', 'num_var25_0',\n",
       "       'num_var25', 'num_op_var40_hace2', 'num_op_var40_hace3',\n",
       "       'num_op_var40_ult1', 'num_op_var40_ult3', 'num_op_var41_hace2',\n",
       "       'num_op_var41_hace3', 'num_op_var41_ult1', 'num_op_var41_ult3',\n",
       "       'num_op_var39_hace2', 'num_op_var39_hace3', 'num_op_var39_ult1',\n",
       "       'num_op_var39_ult3', 'num_var27_0', 'num_var28_0', 'num_var28',\n",
       "       'num_var27', 'num_var29_0', 'num_var29', 'num_var30_0',\n",
       "       'num_var30', 'num_var31_0', 'num_var31', 'num_var32_0',\n",
       "       'num_var32', 'num_var33_0', 'num_var33', 'num_var34_0',\n",
       "       'num_var34', 'num_var35', 'num_var37_med_ult2', 'num_var37_0',\n",
       "       'num_var37', 'num_var39_0', 'num_var40_0', 'num_var40',\n",
       "       'num_var41_0', 'num_var41', 'num_var39', 'num_var42_0',\n",
       "       'num_var42', 'num_var44_0', 'num_var44', 'num_var46_0',\n",
       "       'num_var46', 'saldo_var1', 'saldo_var5', 'saldo_var6',\n",
       "       'saldo_var8', 'saldo_var12', 'saldo_var13_corto',\n",
       "       'saldo_var13_largo', 'saldo_var13_medio', 'saldo_var13',\n",
       "       'saldo_var14', 'saldo_var17', 'saldo_var18', 'saldo_var20',\n",
       "       'saldo_var24', 'saldo_var26', 'saldo_var25', 'saldo_var28',\n",
       "       'saldo_var27', 'saldo_var29', 'saldo_var30', 'saldo_var31',\n",
       "       'saldo_var32', 'saldo_var33', 'saldo_var34', 'saldo_var37',\n",
       "       'saldo_var40', 'saldo_var41', 'saldo_var42', 'saldo_var44',\n",
       "       'saldo_var46', 'var36', 'delta_imp_amort_var18_1y3',\n",
       "       'delta_imp_amort_var34_1y3', 'delta_imp_aport_var13_1y3',\n",
       "       'delta_imp_aport_var17_1y3', 'delta_imp_aport_var33_1y3',\n",
       "       'delta_imp_compra_var44_1y3', 'delta_imp_reemb_var13_1y3',\n",
       "       'delta_imp_reemb_var17_1y3', 'delta_imp_reemb_var33_1y3',\n",
       "       'delta_imp_trasp_var17_in_1y3', 'delta_imp_trasp_var17_out_1y3',\n",
       "       'delta_imp_trasp_var33_in_1y3', 'delta_imp_trasp_var33_out_1y3',\n",
       "       'delta_imp_venta_var44_1y3', 'delta_num_aport_var13_1y3',\n",
       "       'delta_num_aport_var17_1y3', 'delta_num_aport_var33_1y3',\n",
       "       'delta_num_compra_var44_1y3', 'delta_num_reemb_var13_1y3',\n",
       "       'delta_num_reemb_var17_1y3', 'delta_num_reemb_var33_1y3',\n",
       "       'delta_num_trasp_var17_in_1y3', 'delta_num_trasp_var17_out_1y3',\n",
       "       'delta_num_trasp_var33_in_1y3', 'delta_num_trasp_var33_out_1y3',\n",
       "       'delta_num_venta_var44_1y3', 'imp_amort_var18_hace3',\n",
       "       'imp_amort_var18_ult1', 'imp_amort_var34_hace3',\n",
       "       'imp_amort_var34_ult1', 'imp_aport_var13_hace3',\n",
       "       'imp_aport_var13_ult1', 'imp_aport_var17_hace3',\n",
       "       'imp_aport_var17_ult1', 'imp_aport_var33_hace3',\n",
       "       'imp_aport_var33_ult1', 'imp_var7_emit_ult1',\n",
       "       'imp_var7_recib_ult1', 'imp_compra_var44_hace3',\n",
       "       'imp_compra_var44_ult1', 'imp_reemb_var13_hace3',\n",
       "       'imp_reemb_var13_ult1', 'imp_reemb_var17_hace3',\n",
       "       'imp_reemb_var17_ult1', 'imp_reemb_var33_hace3',\n",
       "       'imp_reemb_var33_ult1', 'imp_var43_emit_ult1',\n",
       "       'imp_trans_var37_ult1', 'imp_trasp_var17_in_hace3',\n",
       "       'imp_trasp_var17_in_ult1', 'imp_trasp_var17_out_hace3',\n",
       "       'imp_trasp_var17_out_ult1', 'imp_trasp_var33_in_hace3',\n",
       "       'imp_trasp_var33_in_ult1', 'imp_trasp_var33_out_hace3',\n",
       "       'imp_trasp_var33_out_ult1', 'imp_venta_var44_hace3',\n",
       "       'imp_venta_var44_ult1', 'ind_var7_emit_ult1',\n",
       "       'ind_var7_recib_ult1', 'ind_var10_ult1', 'ind_var10cte_ult1',\n",
       "       'ind_var9_cte_ult1', 'ind_var9_ult1', 'ind_var43_emit_ult1',\n",
       "       'ind_var43_recib_ult1', 'var21', 'num_var2_0_ult1',\n",
       "       'num_var2_ult1', 'num_aport_var13_hace3', 'num_aport_var13_ult1',\n",
       "       'num_aport_var17_hace3', 'num_aport_var17_ult1',\n",
       "       'num_aport_var33_hace3', 'num_aport_var33_ult1',\n",
       "       'num_var7_emit_ult1', 'num_var7_recib_ult1',\n",
       "       'num_compra_var44_hace3', 'num_compra_var44_ult1',\n",
       "       'num_ent_var16_ult1', 'num_var22_hace2', 'num_var22_hace3',\n",
       "       'num_var22_ult1', 'num_var22_ult3', 'num_med_var22_ult3',\n",
       "       'num_med_var45_ult3', 'num_meses_var5_ult3', 'num_meses_var8_ult3',\n",
       "       'num_meses_var12_ult3', 'num_meses_var13_corto_ult3',\n",
       "       'num_meses_var13_largo_ult3', 'num_meses_var13_medio_ult3',\n",
       "       'num_meses_var17_ult3', 'num_meses_var29_ult3',\n",
       "       'num_meses_var33_ult3', 'num_meses_var39_vig_ult3',\n",
       "       'num_meses_var44_ult3', 'num_op_var39_comer_ult1',\n",
       "       'num_op_var39_comer_ult3', 'num_op_var40_comer_ult1',\n",
       "       'num_op_var40_comer_ult3', 'num_op_var40_efect_ult1',\n",
       "       'num_op_var40_efect_ult3', 'num_op_var41_comer_ult1',\n",
       "       'num_op_var41_comer_ult3', 'num_op_var41_efect_ult1',\n",
       "       'num_op_var41_efect_ult3', 'num_op_var39_efect_ult1',\n",
       "       'num_op_var39_efect_ult3', 'num_reemb_var13_hace3',\n",
       "       'num_reemb_var13_ult1', 'num_reemb_var17_hace3',\n",
       "       'num_reemb_var17_ult1', 'num_reemb_var33_hace3',\n",
       "       'num_reemb_var33_ult1', 'num_sal_var16_ult1',\n",
       "       'num_var43_emit_ult1', 'num_var43_recib_ult1',\n",
       "       'num_trasp_var11_ult1', 'num_trasp_var17_in_hace3',\n",
       "       'num_trasp_var17_in_ult1', 'num_trasp_var17_out_hace3',\n",
       "       'num_trasp_var17_out_ult1', 'num_trasp_var33_in_hace3',\n",
       "       'num_trasp_var33_in_ult1', 'num_trasp_var33_out_hace3',\n",
       "       'num_trasp_var33_out_ult1', 'num_venta_var44_hace3',\n",
       "       'num_venta_var44_ult1', 'num_var45_hace2', 'num_var45_hace3',\n",
       "       'num_var45_ult1', 'num_var45_ult3', 'saldo_var2_ult1',\n",
       "       'saldo_medio_var5_hace2', 'saldo_medio_var5_hace3',\n",
       "       'saldo_medio_var5_ult1', 'saldo_medio_var5_ult3',\n",
       "       'saldo_medio_var8_hace2', 'saldo_medio_var8_hace3',\n",
       "       'saldo_medio_var8_ult1', 'saldo_medio_var8_ult3',\n",
       "       'saldo_medio_var12_hace2', 'saldo_medio_var12_hace3',\n",
       "       'saldo_medio_var12_ult1', 'saldo_medio_var12_ult3',\n",
       "       'saldo_medio_var13_corto_hace2', 'saldo_medio_var13_corto_hace3',\n",
       "       'saldo_medio_var13_corto_ult1', 'saldo_medio_var13_corto_ult3',\n",
       "       'saldo_medio_var13_largo_hace2', 'saldo_medio_var13_largo_hace3',\n",
       "       'saldo_medio_var13_largo_ult1', 'saldo_medio_var13_largo_ult3',\n",
       "       'saldo_medio_var13_medio_hace2', 'saldo_medio_var13_medio_hace3',\n",
       "       'saldo_medio_var13_medio_ult1', 'saldo_medio_var13_medio_ult3',\n",
       "       'saldo_medio_var17_hace2', 'saldo_medio_var17_hace3',\n",
       "       'saldo_medio_var17_ult1', 'saldo_medio_var17_ult3',\n",
       "       'saldo_medio_var29_hace2', 'saldo_medio_var29_hace3',\n",
       "       'saldo_medio_var29_ult1', 'saldo_medio_var29_ult3',\n",
       "       'saldo_medio_var33_hace2', 'saldo_medio_var33_hace3',\n",
       "       'saldo_medio_var33_ult1', 'saldo_medio_var33_ult3',\n",
       "       'saldo_medio_var44_hace2', 'saldo_medio_var44_hace3',\n",
       "       'saldo_medio_var44_ult1', 'saldo_medio_var44_ult3', 'var38',\n",
       "       'TARGET'], dtype=object)"
      ]
     },
     "execution_count": 4,
     "metadata": {},
     "output_type": "execute_result"
    }
   ],
   "source": [
    "# Nome das colunas\n",
    "train.columns.values"
   ]
  },
  {
   "cell_type": "code",
   "execution_count": 5,
   "metadata": {},
   "outputs": [
    {
     "data": {
      "text/plain": [
       "ID                           int64\n",
       "var3                         int64\n",
       "var15                        int64\n",
       "imp_ent_var16_ult1         float64\n",
       "imp_op_var39_comer_ult1    float64\n",
       "                            ...   \n",
       "saldo_medio_var44_hace3    float64\n",
       "saldo_medio_var44_ult1     float64\n",
       "saldo_medio_var44_ult3     float64\n",
       "var38                      float64\n",
       "TARGET                       int64\n",
       "Length: 371, dtype: object"
      ]
     },
     "execution_count": 5,
     "metadata": {},
     "output_type": "execute_result"
    }
   ],
   "source": [
    "# Visualizando os tipos de dados\n",
    "train.dtypes"
   ]
  },
  {
   "cell_type": "code",
   "execution_count": 6,
   "metadata": {},
   "outputs": [
    {
     "name": "stdout",
     "output_type": "stream",
     "text": [
      "<class 'pandas.core.frame.DataFrame'>\n",
      "RangeIndex: 76020 entries, 0 to 76019\n",
      "Columns: 371 entries, ID to TARGET\n",
      "dtypes: float64(111), int64(260)\n",
      "memory usage: 215.2 MB\n"
     ]
    }
   ],
   "source": [
    "# Temos 111 colunas com valores tipos float, e 260 com tipo inteiro, totalizando 371 colunas\n",
    "train.info()"
   ]
  },
  {
   "cell_type": "code",
   "execution_count": 7,
   "metadata": {},
   "outputs": [
    {
     "name": "stdout",
     "output_type": "stream",
     "text": [
      "O dataframe tem 76020 linhas e 371 colunas\n"
     ]
    }
   ],
   "source": [
    "# Quantidade de linhas e colunas\n",
    "print('O dataframe tem {} linhas e {} colunas'.format((train.shape[0]), train.shape[1]))"
   ]
  },
  {
   "cell_type": "code",
   "execution_count": 8,
   "metadata": {},
   "outputs": [
    {
     "data": {
      "text/html": [
       "<div>\n",
       "<style scoped>\n",
       "    .dataframe tbody tr th:only-of-type {\n",
       "        vertical-align: middle;\n",
       "    }\n",
       "\n",
       "    .dataframe tbody tr th {\n",
       "        vertical-align: top;\n",
       "    }\n",
       "\n",
       "    .dataframe thead th {\n",
       "        text-align: right;\n",
       "    }\n",
       "</style>\n",
       "<table border=\"1\" class=\"dataframe\">\n",
       "  <thead>\n",
       "    <tr style=\"text-align: right;\">\n",
       "      <th></th>\n",
       "      <th>ID</th>\n",
       "      <th>var3</th>\n",
       "      <th>var15</th>\n",
       "      <th>imp_ent_var16_ult1</th>\n",
       "      <th>imp_op_var39_comer_ult1</th>\n",
       "      <th>imp_op_var39_comer_ult3</th>\n",
       "      <th>imp_op_var40_comer_ult1</th>\n",
       "      <th>imp_op_var40_comer_ult3</th>\n",
       "      <th>imp_op_var40_efect_ult1</th>\n",
       "      <th>imp_op_var40_efect_ult3</th>\n",
       "      <th>...</th>\n",
       "      <th>saldo_medio_var33_hace2</th>\n",
       "      <th>saldo_medio_var33_hace3</th>\n",
       "      <th>saldo_medio_var33_ult1</th>\n",
       "      <th>saldo_medio_var33_ult3</th>\n",
       "      <th>saldo_medio_var44_hace2</th>\n",
       "      <th>saldo_medio_var44_hace3</th>\n",
       "      <th>saldo_medio_var44_ult1</th>\n",
       "      <th>saldo_medio_var44_ult3</th>\n",
       "      <th>var38</th>\n",
       "      <th>TARGET</th>\n",
       "    </tr>\n",
       "  </thead>\n",
       "  <tbody>\n",
       "    <tr>\n",
       "      <th>count</th>\n",
       "      <td>76020.000000</td>\n",
       "      <td>76020.000000</td>\n",
       "      <td>76020.000000</td>\n",
       "      <td>76020.000000</td>\n",
       "      <td>76020.000000</td>\n",
       "      <td>76020.000000</td>\n",
       "      <td>76020.000000</td>\n",
       "      <td>76020.000000</td>\n",
       "      <td>76020.000000</td>\n",
       "      <td>76020.000000</td>\n",
       "      <td>...</td>\n",
       "      <td>76020.000000</td>\n",
       "      <td>76020.000000</td>\n",
       "      <td>76020.000000</td>\n",
       "      <td>76020.000000</td>\n",
       "      <td>76020.000000</td>\n",
       "      <td>76020.000000</td>\n",
       "      <td>76020.000000</td>\n",
       "      <td>76020.000000</td>\n",
       "      <td>7.602000e+04</td>\n",
       "      <td>76020.000000</td>\n",
       "    </tr>\n",
       "    <tr>\n",
       "      <th>mean</th>\n",
       "      <td>75964.050723</td>\n",
       "      <td>-1523.199277</td>\n",
       "      <td>33.212865</td>\n",
       "      <td>86.208265</td>\n",
       "      <td>72.363067</td>\n",
       "      <td>119.529632</td>\n",
       "      <td>3.559130</td>\n",
       "      <td>6.472698</td>\n",
       "      <td>0.412946</td>\n",
       "      <td>0.567352</td>\n",
       "      <td>...</td>\n",
       "      <td>7.935824</td>\n",
       "      <td>1.365146</td>\n",
       "      <td>12.215580</td>\n",
       "      <td>8.784074</td>\n",
       "      <td>31.505324</td>\n",
       "      <td>1.858575</td>\n",
       "      <td>76.026165</td>\n",
       "      <td>56.614351</td>\n",
       "      <td>1.172358e+05</td>\n",
       "      <td>0.039569</td>\n",
       "    </tr>\n",
       "    <tr>\n",
       "      <th>std</th>\n",
       "      <td>43781.947379</td>\n",
       "      <td>39033.462364</td>\n",
       "      <td>12.956486</td>\n",
       "      <td>1614.757313</td>\n",
       "      <td>339.315831</td>\n",
       "      <td>546.266294</td>\n",
       "      <td>93.155749</td>\n",
       "      <td>153.737066</td>\n",
       "      <td>30.604864</td>\n",
       "      <td>36.513513</td>\n",
       "      <td>...</td>\n",
       "      <td>455.887218</td>\n",
       "      <td>113.959637</td>\n",
       "      <td>783.207399</td>\n",
       "      <td>538.439211</td>\n",
       "      <td>2013.125393</td>\n",
       "      <td>147.786584</td>\n",
       "      <td>4040.337842</td>\n",
       "      <td>2852.579397</td>\n",
       "      <td>1.826646e+05</td>\n",
       "      <td>0.194945</td>\n",
       "    </tr>\n",
       "    <tr>\n",
       "      <th>min</th>\n",
       "      <td>1.000000</td>\n",
       "      <td>-999999.000000</td>\n",
       "      <td>5.000000</td>\n",
       "      <td>0.000000</td>\n",
       "      <td>0.000000</td>\n",
       "      <td>0.000000</td>\n",
       "      <td>0.000000</td>\n",
       "      <td>0.000000</td>\n",
       "      <td>0.000000</td>\n",
       "      <td>0.000000</td>\n",
       "      <td>...</td>\n",
       "      <td>0.000000</td>\n",
       "      <td>0.000000</td>\n",
       "      <td>0.000000</td>\n",
       "      <td>0.000000</td>\n",
       "      <td>0.000000</td>\n",
       "      <td>0.000000</td>\n",
       "      <td>0.000000</td>\n",
       "      <td>0.000000</td>\n",
       "      <td>5.163750e+03</td>\n",
       "      <td>0.000000</td>\n",
       "    </tr>\n",
       "    <tr>\n",
       "      <th>25%</th>\n",
       "      <td>38104.750000</td>\n",
       "      <td>2.000000</td>\n",
       "      <td>23.000000</td>\n",
       "      <td>0.000000</td>\n",
       "      <td>0.000000</td>\n",
       "      <td>0.000000</td>\n",
       "      <td>0.000000</td>\n",
       "      <td>0.000000</td>\n",
       "      <td>0.000000</td>\n",
       "      <td>0.000000</td>\n",
       "      <td>...</td>\n",
       "      <td>0.000000</td>\n",
       "      <td>0.000000</td>\n",
       "      <td>0.000000</td>\n",
       "      <td>0.000000</td>\n",
       "      <td>0.000000</td>\n",
       "      <td>0.000000</td>\n",
       "      <td>0.000000</td>\n",
       "      <td>0.000000</td>\n",
       "      <td>6.787061e+04</td>\n",
       "      <td>0.000000</td>\n",
       "    </tr>\n",
       "    <tr>\n",
       "      <th>50%</th>\n",
       "      <td>76043.000000</td>\n",
       "      <td>2.000000</td>\n",
       "      <td>28.000000</td>\n",
       "      <td>0.000000</td>\n",
       "      <td>0.000000</td>\n",
       "      <td>0.000000</td>\n",
       "      <td>0.000000</td>\n",
       "      <td>0.000000</td>\n",
       "      <td>0.000000</td>\n",
       "      <td>0.000000</td>\n",
       "      <td>...</td>\n",
       "      <td>0.000000</td>\n",
       "      <td>0.000000</td>\n",
       "      <td>0.000000</td>\n",
       "      <td>0.000000</td>\n",
       "      <td>0.000000</td>\n",
       "      <td>0.000000</td>\n",
       "      <td>0.000000</td>\n",
       "      <td>0.000000</td>\n",
       "      <td>1.064092e+05</td>\n",
       "      <td>0.000000</td>\n",
       "    </tr>\n",
       "    <tr>\n",
       "      <th>75%</th>\n",
       "      <td>113748.750000</td>\n",
       "      <td>2.000000</td>\n",
       "      <td>40.000000</td>\n",
       "      <td>0.000000</td>\n",
       "      <td>0.000000</td>\n",
       "      <td>0.000000</td>\n",
       "      <td>0.000000</td>\n",
       "      <td>0.000000</td>\n",
       "      <td>0.000000</td>\n",
       "      <td>0.000000</td>\n",
       "      <td>...</td>\n",
       "      <td>0.000000</td>\n",
       "      <td>0.000000</td>\n",
       "      <td>0.000000</td>\n",
       "      <td>0.000000</td>\n",
       "      <td>0.000000</td>\n",
       "      <td>0.000000</td>\n",
       "      <td>0.000000</td>\n",
       "      <td>0.000000</td>\n",
       "      <td>1.187563e+05</td>\n",
       "      <td>0.000000</td>\n",
       "    </tr>\n",
       "    <tr>\n",
       "      <th>max</th>\n",
       "      <td>151838.000000</td>\n",
       "      <td>238.000000</td>\n",
       "      <td>105.000000</td>\n",
       "      <td>210000.000000</td>\n",
       "      <td>12888.030000</td>\n",
       "      <td>21024.810000</td>\n",
       "      <td>8237.820000</td>\n",
       "      <td>11073.570000</td>\n",
       "      <td>6600.000000</td>\n",
       "      <td>6600.000000</td>\n",
       "      <td>...</td>\n",
       "      <td>50003.880000</td>\n",
       "      <td>20385.720000</td>\n",
       "      <td>138831.630000</td>\n",
       "      <td>91778.730000</td>\n",
       "      <td>438329.220000</td>\n",
       "      <td>24650.010000</td>\n",
       "      <td>681462.900000</td>\n",
       "      <td>397884.300000</td>\n",
       "      <td>2.203474e+07</td>\n",
       "      <td>1.000000</td>\n",
       "    </tr>\n",
       "  </tbody>\n",
       "</table>\n",
       "<p>8 rows × 371 columns</p>\n",
       "</div>"
      ],
      "text/plain": [
       "                  ID           var3         var15  imp_ent_var16_ult1  \\\n",
       "count   76020.000000   76020.000000  76020.000000        76020.000000   \n",
       "mean    75964.050723   -1523.199277     33.212865           86.208265   \n",
       "std     43781.947379   39033.462364     12.956486         1614.757313   \n",
       "min         1.000000 -999999.000000      5.000000            0.000000   \n",
       "25%     38104.750000       2.000000     23.000000            0.000000   \n",
       "50%     76043.000000       2.000000     28.000000            0.000000   \n",
       "75%    113748.750000       2.000000     40.000000            0.000000   \n",
       "max    151838.000000     238.000000    105.000000       210000.000000   \n",
       "\n",
       "       imp_op_var39_comer_ult1  imp_op_var39_comer_ult3  \\\n",
       "count             76020.000000             76020.000000   \n",
       "mean                 72.363067               119.529632   \n",
       "std                 339.315831               546.266294   \n",
       "min                   0.000000                 0.000000   \n",
       "25%                   0.000000                 0.000000   \n",
       "50%                   0.000000                 0.000000   \n",
       "75%                   0.000000                 0.000000   \n",
       "max               12888.030000             21024.810000   \n",
       "\n",
       "       imp_op_var40_comer_ult1  imp_op_var40_comer_ult3  \\\n",
       "count             76020.000000             76020.000000   \n",
       "mean                  3.559130                 6.472698   \n",
       "std                  93.155749               153.737066   \n",
       "min                   0.000000                 0.000000   \n",
       "25%                   0.000000                 0.000000   \n",
       "50%                   0.000000                 0.000000   \n",
       "75%                   0.000000                 0.000000   \n",
       "max                8237.820000             11073.570000   \n",
       "\n",
       "       imp_op_var40_efect_ult1  imp_op_var40_efect_ult3  ...  \\\n",
       "count             76020.000000             76020.000000  ...   \n",
       "mean                  0.412946                 0.567352  ...   \n",
       "std                  30.604864                36.513513  ...   \n",
       "min                   0.000000                 0.000000  ...   \n",
       "25%                   0.000000                 0.000000  ...   \n",
       "50%                   0.000000                 0.000000  ...   \n",
       "75%                   0.000000                 0.000000  ...   \n",
       "max                6600.000000              6600.000000  ...   \n",
       "\n",
       "       saldo_medio_var33_hace2  saldo_medio_var33_hace3  \\\n",
       "count             76020.000000             76020.000000   \n",
       "mean                  7.935824                 1.365146   \n",
       "std                 455.887218               113.959637   \n",
       "min                   0.000000                 0.000000   \n",
       "25%                   0.000000                 0.000000   \n",
       "50%                   0.000000                 0.000000   \n",
       "75%                   0.000000                 0.000000   \n",
       "max               50003.880000             20385.720000   \n",
       "\n",
       "       saldo_medio_var33_ult1  saldo_medio_var33_ult3  \\\n",
       "count            76020.000000            76020.000000   \n",
       "mean                12.215580                8.784074   \n",
       "std                783.207399              538.439211   \n",
       "min                  0.000000                0.000000   \n",
       "25%                  0.000000                0.000000   \n",
       "50%                  0.000000                0.000000   \n",
       "75%                  0.000000                0.000000   \n",
       "max             138831.630000            91778.730000   \n",
       "\n",
       "       saldo_medio_var44_hace2  saldo_medio_var44_hace3  \\\n",
       "count             76020.000000             76020.000000   \n",
       "mean                 31.505324                 1.858575   \n",
       "std                2013.125393               147.786584   \n",
       "min                   0.000000                 0.000000   \n",
       "25%                   0.000000                 0.000000   \n",
       "50%                   0.000000                 0.000000   \n",
       "75%                   0.000000                 0.000000   \n",
       "max              438329.220000             24650.010000   \n",
       "\n",
       "       saldo_medio_var44_ult1  saldo_medio_var44_ult3         var38  \\\n",
       "count            76020.000000            76020.000000  7.602000e+04   \n",
       "mean                76.026165               56.614351  1.172358e+05   \n",
       "std               4040.337842             2852.579397  1.826646e+05   \n",
       "min                  0.000000                0.000000  5.163750e+03   \n",
       "25%                  0.000000                0.000000  6.787061e+04   \n",
       "50%                  0.000000                0.000000  1.064092e+05   \n",
       "75%                  0.000000                0.000000  1.187563e+05   \n",
       "max             681462.900000           397884.300000  2.203474e+07   \n",
       "\n",
       "             TARGET  \n",
       "count  76020.000000  \n",
       "mean       0.039569  \n",
       "std        0.194945  \n",
       "min        0.000000  \n",
       "25%        0.000000  \n",
       "50%        0.000000  \n",
       "75%        0.000000  \n",
       "max        1.000000  \n",
       "\n",
       "[8 rows x 371 columns]"
      ]
     },
     "execution_count": 8,
     "metadata": {},
     "output_type": "execute_result"
    }
   ],
   "source": [
    "# Resumo estatístico \n",
    "train.describe()"
   ]
  },
  {
   "cell_type": "code",
   "execution_count": 9,
   "metadata": {},
   "outputs": [
    {
     "data": {
      "text/plain": [
       "False"
      ]
     },
     "execution_count": 9,
     "metadata": {},
     "output_type": "execute_result"
    }
   ],
   "source": [
    "# Checando se temos valores missing\n",
    "train.isna().sum().any()"
   ]
  },
  {
   "cell_type": "markdown",
   "metadata": {},
   "source": [
    "### Variável Target"
   ]
  },
  {
   "cell_type": "code",
   "execution_count": 10,
   "metadata": {},
   "outputs": [
    {
     "data": {
      "text/html": [
       "<div>\n",
       "<style scoped>\n",
       "    .dataframe tbody tr th:only-of-type {\n",
       "        vertical-align: middle;\n",
       "    }\n",
       "\n",
       "    .dataframe tbody tr th {\n",
       "        vertical-align: top;\n",
       "    }\n",
       "\n",
       "    .dataframe thead th {\n",
       "        text-align: right;\n",
       "    }\n",
       "</style>\n",
       "<table border=\"1\" class=\"dataframe\">\n",
       "  <thead>\n",
       "    <tr style=\"text-align: right;\">\n",
       "      <th></th>\n",
       "      <th>TARGET</th>\n",
       "      <th>Percentage</th>\n",
       "    </tr>\n",
       "  </thead>\n",
       "  <tbody>\n",
       "    <tr>\n",
       "      <th>0</th>\n",
       "      <td>73012</td>\n",
       "      <td>96.043147</td>\n",
       "    </tr>\n",
       "    <tr>\n",
       "      <th>1</th>\n",
       "      <td>3008</td>\n",
       "      <td>3.956853</td>\n",
       "    </tr>\n",
       "  </tbody>\n",
       "</table>\n",
       "</div>"
      ],
      "text/plain": [
       "   TARGET  Percentage\n",
       "0   73012   96.043147\n",
       "1    3008    3.956853"
      ]
     },
     "execution_count": 10,
     "metadata": {},
     "output_type": "execute_result"
    }
   ],
   "source": [
    "# Proporção de 0's e 1's na variável Target\n",
    "df = pd.DataFrame(train.TARGET.value_counts())\n",
    "df['Percentage'] = df['TARGET']/train.shape[0] * 100\n",
    "df"
   ]
  },
  {
   "cell_type": "code",
   "execution_count": 11,
   "metadata": {},
   "outputs": [
    {
     "data": {
      "image/png": "[encoded data removed]",
      "text/plain": [
       "<Figure size 432x360 with 1 Axes>"
      ]
     },
     "metadata": {
      "needs_background": "light"
     },
     "output_type": "display_data"
    }
   ],
   "source": [
    "plt.figure(figsize=(6,5))\n",
    "sns.distplot(a = train.TARGET, kde=False, color='red');\n",
    "plt.title('Distribuição da variável target');"
   ]
  },
  {
   "cell_type": "markdown",
   "metadata": {},
   "source": [
    "### Variável Nacionalidade - Var3"
   ]
  },
  {
   "cell_type": "code",
   "execution_count": 12,
   "metadata": {},
   "outputs": [
    {
     "data": {
      "text/plain": [
       " 2         74165\n",
       " 8           138\n",
       "-999999      116\n",
       " 9           110\n",
       " 3           108\n",
       " 1           105\n",
       " 13           98\n",
       " 7            97\n",
       " 4            86\n",
       " 12           85\n",
       "Name: var3, dtype: int64"
      ]
     },
     "execution_count": 12,
     "metadata": {},
     "output_type": "execute_result"
    }
   ],
   "source": [
    "# Nacionalidade dos clientes - Var3\n",
    "train.var3.value_counts()[:10]"
   ]
  },
  {
   "cell_type": "code",
   "execution_count": 13,
   "metadata": {},
   "outputs": [
    {
     "data": {
      "text/plain": [
       "(0, 371)"
      ]
     },
     "execution_count": 13,
     "metadata": {},
     "output_type": "execute_result"
    }
   ],
   "source": [
    "# Trocando os valores -999999 (nacionalidades desconhecidas) pelo número que mais apareceu, o 2.\n",
    "train['var3'] = train['var3'].replace(-999999, 2)\n",
    "train.loc[train.var3 == -999999].shape"
   ]
  },
  {
   "cell_type": "markdown",
   "metadata": {},
   "source": [
    "### Variável produtos bancários - var4"
   ]
  },
  {
   "cell_type": "code",
   "execution_count": 14,
   "metadata": {},
   "outputs": [
    {
     "data": {
      "image/png": "[encoded data removed]",
      "text/plain": [
       "<Figure size 479x432 with 1 Axes>"
      ]
     },
     "metadata": {
      "needs_background": "light"
     },
     "output_type": "display_data"
    }
   ],
   "source": [
    "sns.FacetGrid(train, hue=\"TARGET\", height=6) \\\n",
    "   .map(plt.hist, \"num_var4\") \\\n",
    "   .add_legend()\n",
    "plt.title('Clientes insatisfeitos tem menos produtos')\n",
    "plt.show()"
   ]
  },
  {
   "cell_type": "code",
   "execution_count": 15,
   "metadata": {},
   "outputs": [
    {
     "data": {
      "image/png": "[encoded data removed]",
      "text/plain": [
       "<Figure size 576x432 with 1 Axes>"
      ]
     },
     "metadata": {
      "needs_background": "light"
     },
     "output_type": "display_data"
    }
   ],
   "source": [
    "# Quantidade de clientes insatisfeitos por quantidade de produto\n",
    "plt.figure(figsize=(8,6))\n",
    "train[train.TARGET==1].num_var4.hist(bins=6, color = 'salmon')\n",
    "plt.xlabel('Produtos bancários', labelpad=10, fontsize=12)\n",
    "plt.ylabel('Clientes insatisfeitos', labelpad=10, fontsize=12);\n",
    "plt.title('Clientes insatisfeitos por quantidade de produto', fontsize=15);"
   ]
  },
  {
   "cell_type": "markdown",
   "metadata": {},
   "source": [
    "### Variável Hipoteca - var38"
   ]
  },
  {
   "cell_type": "code",
   "execution_count": 16,
   "metadata": {},
   "outputs": [
    {
     "data": {
      "text/plain": [
       "count    7.602000e+04\n",
       "mean     1.172358e+05\n",
       "std      1.826646e+05\n",
       "min      5.163750e+03\n",
       "25%      6.787061e+04\n",
       "50%      1.064092e+05\n",
       "75%      1.187563e+05\n",
       "max      2.203474e+07\n",
       "Name: var38, dtype: float64"
      ]
     },
     "execution_count": 16,
     "metadata": {},
     "output_type": "execute_result"
    }
   ],
   "source": [
    "# Resumo da variável\n",
    "train.var38.describe()"
   ]
  },
  {
   "cell_type": "code",
   "execution_count": 17,
   "metadata": {},
   "outputs": [
    {
     "data": {
      "text/plain": [
       "count    3.008000e+03\n",
       "mean     9.967828e+04\n",
       "std      1.063098e+05\n",
       "min      1.113663e+04\n",
       "25%      5.716094e+04\n",
       "50%      8.621997e+04\n",
       "75%      1.173110e+05\n",
       "max      3.988595e+06\n",
       "Name: var38, dtype: float64"
      ]
     },
     "execution_count": 17,
     "metadata": {},
     "output_type": "execute_result"
    }
   ],
   "source": [
    "# Hipoteca para os clientes insatisfeitos\n",
    "train.loc[train['TARGET']==1, 'var38'].describe()"
   ]
  },
  {
   "cell_type": "code",
   "execution_count": 18,
   "metadata": {},
   "outputs": [
    {
     "data": {
      "text/plain": [
       "2     74281\n",
       "8       138\n",
       "9       110\n",
       "3       108\n",
       "1       105\n",
       "13       98\n",
       "7        97\n",
       "4        86\n",
       "12       85\n",
       "6        82\n",
       "Name: var3, dtype: int64"
      ]
     },
     "execution_count": 18,
     "metadata": {},
     "output_type": "execute_result"
    }
   ],
   "source": [
    "train.var3.value_counts()[:10]"
   ]
  },
  {
   "cell_type": "code",
   "execution_count": 19,
   "metadata": {},
   "outputs": [
    {
     "data": {
      "text/plain": [
       "117310.979016    14868\n",
       "451931.220000       16\n",
       "463625.160000       12\n",
       "288997.440000       11\n",
       "104563.800000       11\n",
       "                 ...  \n",
       "318211.440000        1\n",
       "73069.260000         1\n",
       "36425.370000         1\n",
       "163515.900000        1\n",
       "159395.520000        1\n",
       "Name: var38, Length: 57736, dtype: int64"
      ]
     },
     "execution_count": 19,
     "metadata": {},
     "output_type": "execute_result"
    }
   ],
   "source": [
    "# Valores mais comuns em var38\n",
    "train.var38.value_counts()"
   ]
  },
  {
   "cell_type": "markdown",
   "metadata": {},
   "source": [
    "### Variável Idade - var15"
   ]
  },
  {
   "cell_type": "code",
   "execution_count": 20,
   "metadata": {},
   "outputs": [
    {
     "data": {
      "text/plain": [
       "count    76020.000000\n",
       "mean        33.212865\n",
       "std         12.956486\n",
       "min          5.000000\n",
       "25%         23.000000\n",
       "50%         28.000000\n",
       "75%         40.000000\n",
       "max        105.000000\n",
       "Name: var15, dtype: float64"
      ]
     },
     "execution_count": 20,
     "metadata": {},
     "output_type": "execute_result"
    }
   ],
   "source": [
    "train.var15.describe()"
   ]
  },
  {
   "cell_type": "code",
   "execution_count": 21,
   "metadata": {},
   "outputs": [
    {
     "data": {
      "image/png": "[encoded data removed]",
      "text/plain": [
       "<Figure size 432x288 with 1 Axes>"
      ]
     },
     "metadata": {
      "needs_background": "light"
     },
     "output_type": "display_data"
    }
   ],
   "source": [
    "sns.distplot(a= train.var15, color='y');\n",
    "plt.xlabel('Idade',fontsize=12)\n",
    "plt.ylabel('Quantidade');"
   ]
  },
  {
   "cell_type": "code",
   "execution_count": 22,
   "metadata": {},
   "outputs": [
    {
     "data": {
      "image/png": "[encoded data removed]",
      "text/plain": [
       "<Figure size 576x360 with 2 Axes>"
      ]
     },
     "metadata": {
      "needs_background": "light"
     },
     "output_type": "display_data"
    }
   ],
   "source": [
    "fig, axs = plt.subplots(1, 2, sharey=True, tight_layout=True, figsize=(8,5))\n",
    "axs[0].hist(train.var15[train.TARGET == 1], color = 'r');\n",
    "axs[1].hist(train.var15[train.TARGET == 0], color = 'b');\n",
    "axs[0].title.set_text('Idade x Cliente Insatisfeito')\n",
    "axs[1].title.set_text(\"Idade x Cliente Satisfeito\")"
   ]
  },
  {
   "cell_type": "code",
   "execution_count": 23,
   "metadata": {},
   "outputs": [
    {
     "data": {
      "image/png": "[encoded data removed]",
      "text/plain": [
       "<Figure size 479x432 with 1 Axes>"
      ]
     },
     "metadata": {
      "needs_background": "light"
     },
     "output_type": "display_data"
    }
   ],
   "source": [
    "sns.FacetGrid(train, hue=\"TARGET\",height=6) \\\n",
    "    .map(sns.kdeplot, \"var15\") \\\n",
    "    .add_legend()\n",
    "plt.title('Clientes insatisfeitos são um pouco mais velhos');"
   ]
  },
  {
   "cell_type": "markdown",
   "metadata": {},
   "source": [
    "### Variável Saldo - saldo_var30"
   ]
  },
  {
   "cell_type": "code",
   "execution_count": 24,
   "metadata": {},
   "outputs": [
    {
     "data": {
      "text/plain": [
       "count    7.602000e+04\n",
       "mean     1.367967e+04\n",
       "std      6.301408e+04\n",
       "min     -4.942260e+03\n",
       "25%      0.000000e+00\n",
       "50%      3.000000e+00\n",
       "75%      2.359950e+02\n",
       "max      3.458077e+06\n",
       "Name: saldo_var30, dtype: float64"
      ]
     },
     "execution_count": 24,
     "metadata": {},
     "output_type": "execute_result"
    }
   ],
   "source": [
    "train.saldo_var30.describe()"
   ]
  },
  {
   "cell_type": "code",
   "execution_count": 25,
   "metadata": {},
   "outputs": [
    {
     "data": {
      "text/plain": [
       "<seaborn.axisgrid.FacetGrid at 0x2afb7745e48>"
      ]
     },
     "execution_count": 25,
     "metadata": {},
     "output_type": "execute_result"
    },
    {
     "data": {
      "image/png": "[encoded data removed]",
      "text/plain": [
       "<Figure size 407x360 with 1 Axes>"
      ]
     },
     "metadata": {
      "needs_background": "light"
     },
     "output_type": "display_data"
    }
   ],
   "source": [
    "sns.FacetGrid(train, hue='TARGET', height=5) \\\n",
    "    .map(sns.kdeplot, 'saldo_var30') \\\n",
    "    .add_legend()"
   ]
  },
  {
   "cell_type": "code",
   "execution_count": 26,
   "metadata": {},
   "outputs": [
    {
     "data": {
      "image/png": "[encoded data removed]",
      "text/plain": [
       "<Figure size 720x432 with 1 Axes>"
      ]
     },
     "metadata": {
      "needs_background": "light"
     },
     "output_type": "display_data"
    }
   ],
   "source": [
    "media = train.groupby('TARGET')['saldo_var30'].mean()\n",
    "media = pd.DataFrame(media)\n",
    "media = media.reset_index()\n",
    "plt.figure(figsize=(10,6))\n",
    "sns.barplot(x='TARGET', y='saldo_var30', data=media)\n",
    "plt.title('Média de Saldo por clientes satisfeitos e insatisfeitos', size=15);"
   ]
  },
  {
   "cell_type": "markdown",
   "metadata": {},
   "source": [
    "# Correlação entre Saldo e Idade"
   ]
  },
  {
   "cell_type": "code",
   "execution_count": 27,
   "metadata": {},
   "outputs": [
    {
     "data": {
      "image/png": "[encoded data removed]",
      "text/plain": [
       "<Figure size 576x432 with 1 Axes>"
      ]
     },
     "metadata": {
      "needs_background": "light"
     },
     "output_type": "display_data"
    }
   ],
   "source": [
    "plt.figure(figsize=(8,6))\n",
    "sns.scatterplot(train.var15,train.saldo_var30)\n",
    "plt.title('Os saldos mais altos são a partir dos 40 anos', size=15)\n",
    "plt.xlabel('Idade')\n",
    "plt.ylabel('Saldo');"
   ]
  },
  {
   "cell_type": "code",
   "execution_count": 28,
   "metadata": {},
   "outputs": [
    {
     "data": {
      "text/plain": [
       "<Figure size 576x432 with 0 Axes>"
      ]
     },
     "metadata": {},
     "output_type": "display_data"
    },
    {
     "data": {
      "image/png": "[encoded data removed]",
      "text/plain": [
       "<Figure size 479x432 with 1 Axes>"
      ]
     },
     "metadata": {
      "needs_background": "light"
     },
     "output_type": "display_data"
    }
   ],
   "source": [
    "plt.figure(figsize=(8,6))\n",
    "sns.FacetGrid(data=train, hue='TARGET', height=6) \\\n",
    "    .map(plt.scatter, 'var15', 'saldo_var30') \\\n",
    "    .add_legend();\n",
    "plt.title('Variabilidade do saldo ao longo da idade em diferentes clientes', size=15, pad=15, loc='left');"
   ]
  },
  {
   "cell_type": "markdown",
   "metadata": {},
   "source": [
    "# Pré-Processamento"
   ]
  },
  {
   "cell_type": "markdown",
   "metadata": {},
   "source": [
    "# Feature Selection"
   ]
  },
  {
   "cell_type": "code",
   "execution_count": 29,
   "metadata": {},
   "outputs": [],
   "source": [
    "# Removendo a coluna ID e a Target e gravando na variável X\n",
    "X = train.iloc[:,1:-1]\n",
    "\n",
    "# Gravando a coluna target na variável Y\n",
    "Y = train.TARGET"
   ]
  },
  {
   "cell_type": "markdown",
   "metadata": {},
   "source": [
    "# Usando SMOTE para equilibrar as classes"
   ]
  },
  {
   "cell_type": "code",
   "execution_count": 30,
   "metadata": {},
   "outputs": [
    {
     "data": {
      "text/plain": [
       "0    0.960431\n",
       "1    0.039569\n",
       "Name: TARGET, dtype: float64"
      ]
     },
     "execution_count": 30,
     "metadata": {},
     "output_type": "execute_result"
    }
   ],
   "source": [
    "# Importando SMOTE\n",
    "from imblearn.over_sampling import SMOTE\n",
    "\n",
    "# Porcetagem dos valores da classe\n",
    "train.TARGET.value_counts(normalize=True)"
   ]
  },
  {
   "cell_type": "code",
   "execution_count": 31,
   "metadata": {},
   "outputs": [
    {
     "data": {
      "text/plain": [
       "1    0.5\n",
       "0    0.5\n",
       "Name: TARGET, dtype: float64"
      ]
     },
     "execution_count": 31,
     "metadata": {},
     "output_type": "execute_result"
    }
   ],
   "source": [
    "# Balanceando\n",
    "x_resampled, y_resampled = SMOTE().fit_resample(X, Y)\n",
    "\n",
    "# Classe equilibrada - 50/50\n",
    "pd.value_counts(y_resampled, normalize=True)"
   ]
  },
  {
   "cell_type": "markdown",
   "metadata": {},
   "source": [
    "### Normalizando as features"
   ]
  },
  {
   "cell_type": "code",
   "execution_count": 32,
   "metadata": {},
   "outputs": [
    {
     "data": {
      "text/plain": [
       "array([[0.00840336, 0.18      , 0.        , ..., 0.        , 0.        ,\n",
       "        0.00154526],\n",
       "       [0.00840336, 0.29      , 0.        , ..., 0.        , 0.        ,\n",
       "        0.0020025 ],\n",
       "       [0.00840336, 0.18      , 0.        , ..., 0.        , 0.        ,\n",
       "        0.00282212],\n",
       "       ...,\n",
       "       [0.00840336, 0.23      , 0.        , ..., 0.        , 0.        ,\n",
       "        0.00509076],\n",
       "       [0.00840336, 0.43      , 0.        , ..., 0.        , 0.        ,\n",
       "        0.00380481],\n",
       "       [0.00840336, 0.32      , 0.        , ..., 0.        , 0.        ,\n",
       "        0.00477623]])"
      ]
     },
     "execution_count": 32,
     "metadata": {},
     "output_type": "execute_result"
    }
   ],
   "source": [
    "from sklearn.preprocessing import MinMaxScaler\n",
    "\n",
    "# Normalizando\n",
    "X_scaled = MinMaxScaler(feature_range = (0, 1)).fit_transform(x_resampled)"
   ]
  },
  {
   "cell_type": "markdown",
   "metadata": {},
   "source": [
    "### Método de Seleção Univariada"
   ]
  },
  {
   "cell_type": "markdown",
   "metadata": {},
   "source": [
    "Testes estatísticos podem ser usados para selecionar os atributos que possuem forte relacionamento com a variável que estamos tentando prever. O Scikit-learn fornece a função SelectKBest() que pode ser usada com diversos testes estatísticos, para selecionar os atributos. Vamos usar o teste qui-quadrado e selecionar os 4 melhores atributos que podem ser usados como variáveis preditoras."
   ]
  },
  {
   "cell_type": "code",
   "execution_count": 33,
   "metadata": {},
   "outputs": [
    {
     "name": "stdout",
     "output_type": "stream",
     "text": [
      "\n",
      "Número original de features: 369\n",
      "\n",
      "Número reduzido de features: 10\n",
      "\n",
      "Features (Variáveis Selecionadas): \n",
      "\n",
      " [[0.         0.         0.         ... 1.         0.         0.        ]\n",
      " [0.         0.         0.         ... 0.03030303 0.         0.33333333]\n",
      " [1.         0.         0.         ... 1.         0.         1.        ]\n",
      " ...\n",
      " [1.         0.         0.         ... 0.03030303 0.         1.        ]\n",
      " [0.         0.         0.         ... 0.02020202 0.         0.33333333]\n",
      " [0.         0.         0.         ... 1.         0.         0.        ]]\n",
      "\n",
      "Índices das variáveis escolhidas: [ 24  29  30  31  38  63  88 193 259 280]\n"
     ]
    }
   ],
   "source": [
    "from sklearn.feature_selection import SelectKBest, chi2\n",
    "\n",
    "# Seletor de variáveis\n",
    "selector = SelectKBest(score_func= chi2, k=10).fit(X_scaled, y_resampled)\n",
    "\n",
    "# Visualizando\n",
    "features = selector.transform(X_scaled)\n",
    "\n",
    "# Resultados\n",
    "print('\\nNúmero original de features:', X_scaled.shape[1])\n",
    "print('\\nNúmero reduzido de features:', features.shape[1])\n",
    "print('\\nFeatures (Variáveis Selecionadas): \\n\\n', features)\n",
    "print('\\nÍndices das variáveis escolhidas:', selector.get_support(indices = True))"
   ]
  },
  {
   "cell_type": "markdown",
   "metadata": {},
   "source": [
    "### Método Ensemble para Seleção de Variáveis"
   ]
  },
  {
   "cell_type": "markdown",
   "metadata": {},
   "source": [
    "Bagged Decision Trees, como o algoritmo RandomForest (esses são chamados de Métodos Ensemble), podem ser usados para estimar a importância de cada atributo. Esse método retorna um score para cada atributo.\n",
    "\n",
    "Quanto maior o score, maior a importância do atributo."
   ]
  },
  {
   "cell_type": "code",
   "execution_count": 34,
   "metadata": {},
   "outputs": [],
   "source": [
    "from sklearn.ensemble import ExtraTreesClassifier\n",
    "\n",
    "# Modelo\n",
    "model = ExtraTreesClassifier()\n",
    "\n",
    "# Fit\n",
    "model.fit(X_scaled,y_resampled)\n",
    "\n",
    "# Results\n",
    "result = model.feature_importances_"
   ]
  },
  {
   "cell_type": "code",
   "execution_count": 35,
   "metadata": {},
   "outputs": [
    {
     "name": "stdout",
     "output_type": "stream",
     "text": [
      "Variáveis com maiores valores: \n",
      " [0.01541488 0.01605615 0.01562404 0.02569109 0.04077283 0.05675923\n",
      " 0.12111111 0.06306391 0.07245037 0.14503878] \n",
      "\n",
      "Indice das variáveis escolhidas: \n",
      " [326 324 277  90 193  24   1  63 280 368] \n",
      "\n"
     ]
    }
   ],
   "source": [
    "# Imprimindo as 10 variáveis com maiores valores \n",
    "ind = np.argpartition(result, -10)[-10:]\n",
    "print('Variáveis com maiores valores: \\n %s \\n' % result[ind])\n",
    "print('Indice das variáveis escolhidas: \\n %s \\n' % ind)"
   ]
  },
  {
   "cell_type": "markdown",
   "metadata": {},
   "source": [
    "# Redução de Dimensionalidade (Feature Extraction)\n",
    "# Principal Component Analysis (PCA)"
   ]
  },
  {
   "cell_type": "code",
   "execution_count": 36,
   "metadata": {},
   "outputs": [
    {
     "name": "stdout",
     "output_type": "stream",
     "text": [
      "Variância: \n",
      " [0.35228454 0.16062673 0.12647807 0.06619939 0.05525581 0.04402183\n",
      " 0.03221161 0.02370538 0.01842714 0.01221007]\n",
      "[[ 3.96275165e-04 -7.75755371e-03  3.93010782e-04 ...  6.88668608e-05\n",
      "   8.49173747e-05  2.00463519e-04]\n",
      " [ 2.55746134e-03  3.49097219e-02  2.70311777e-04 ...  5.10055986e-05\n",
      "   6.62924726e-05 -6.05689596e-05]\n",
      " [ 1.02020771e-03  1.87357248e-03  1.17001889e-04 ...  3.62863841e-05\n",
      "   5.25844658e-05 -1.75319271e-04]\n",
      " ...\n",
      " [ 6.66818453e-04  3.71282250e-03  9.24205145e-04 ...  2.00506751e-05\n",
      "   4.35972982e-05  5.53227246e-04]\n",
      " [-1.27493202e-02 -2.17732889e-02  2.75146113e-04 ...  1.77178077e-04\n",
      "   1.29092204e-04  1.69206204e-05]\n",
      " [ 1.73859702e-02 -1.74095117e-03  3.51207039e-04 ...  2.92059062e-04\n",
      "   4.06951401e-04 -6.00146774e-04]]\n"
     ]
    }
   ],
   "source": [
    "from sklearn.decomposition import PCA\n",
    "\n",
    "# Selecionando 10 atributos\n",
    "pca = PCA(n_components=10).fit(X_scaled)\n",
    "\n",
    "# Sumarizando os componentes\n",
    "print(\"Variância: \\n %s\" % pca.explained_variance_ratio_)\n",
    "print(pca.components_)"
   ]
  },
  {
   "cell_type": "markdown",
   "metadata": {},
   "source": [
    "# Construção dos modelos de Machine Learning"
   ]
  },
  {
   "cell_type": "markdown",
   "metadata": {},
   "source": [
    "### Vamos treinar o primeiro modelo com os dados do PCA"
   ]
  },
  {
   "cell_type": "code",
   "execution_count": 37,
   "metadata": {},
   "outputs": [],
   "source": [
    "# Aplicando PCA nos dados de treino e validação\n",
    "from sklearn.model_selection import train_test_split\n",
    "\n",
    "# Dividindo dados de treino e validação\n",
    "x_treino, x_valid, y_treino, y_valid = train_test_split(X_scaled, y_resampled, test_size = 0.30)\n",
    "\n",
    "# Aplicando pca ao dados\n",
    "pca_treino = pca.transform(x_treino)\n",
    "pca_teste = pca.transform(x_valid)"
   ]
  },
  {
   "cell_type": "markdown",
   "metadata": {},
   "source": [
    "# Modelo SVM com componentes do PCA"
   ]
  },
  {
   "cell_type": "code",
   "execution_count": 38,
   "metadata": {},
   "outputs": [
    {
     "data": {
      "text/plain": [
       "79.38"
      ]
     },
     "execution_count": 38,
     "metadata": {},
     "output_type": "execute_result"
    }
   ],
   "source": [
    "# Imports\n",
    "from sklearn import svm\n",
    "from sklearn.metrics import accuracy_score\n",
    "\n",
    "# Criando o modelo\n",
    "modelo = svm.SVC()\n",
    "\n",
    "# Treinando o modelo\n",
    "modelo.fit(pca_treino, y_treino)\n",
    "\n",
    "# Prevendo\n",
    "previsao = modelo.predict(pca_teste)\n",
    "\n",
    "# Acurácia\n",
    "round(accuracy_score(y_valid, previsao),4) * 100"
   ]
  },
  {
   "cell_type": "markdown",
   "metadata": {},
   "source": [
    "# Modelo SVM com features selecionadas por SelectKBest"
   ]
  },
  {
   "cell_type": "code",
   "execution_count": 39,
   "metadata": {},
   "outputs": [
    {
     "data": {
      "text/plain": [
       "78.03999999999999"
      ]
     },
     "execution_count": 39,
     "metadata": {},
     "output_type": "execute_result"
    }
   ],
   "source": [
    "# Variáveis preditoras\n",
    "features = [24 , 29 , 30 , 31 , 38 , 63 , 88 ,193, 259, 280]\n",
    "\n",
    "# Treinando o modelo\n",
    "modelo.fit(x_treino[:,features], y_treino)\n",
    "\n",
    "# Previsão\n",
    "previsao = modelo.predict(x_valid[:,features])\n",
    "\n",
    "# Acurácia\n",
    "round(accuracy_score(y_valid, previsao),4) * 100"
   ]
  },
  {
   "cell_type": "markdown",
   "metadata": {},
   "source": [
    "# Modelo SVM com features selecionadas por ExtraTreesClassifier"
   ]
  },
  {
   "cell_type": "code",
   "execution_count": 40,
   "metadata": {},
   "outputs": [
    {
     "data": {
      "text/plain": [
       "82.09"
      ]
     },
     "execution_count": 40,
     "metadata": {},
     "output_type": "execute_result"
    }
   ],
   "source": [
    "# Variáveis preditoras\n",
    "features = [326, 324, 277,  90, 193,  24,   1,  63, 280, 368]\n",
    "\n",
    "\n",
    "# Treinando o modelo\n",
    "modelo.fit(x_treino[:,features], y_treino)\n",
    "\n",
    "# Previsão\n",
    "previsao = modelo.predict(x_valid[:,features])\n",
    "\n",
    "# Acurácia\n",
    "round(accuracy_score(y_valid, previsao),4) * 100"
   ]
  },
  {
   "cell_type": "markdown",
   "metadata": {},
   "source": [
    "# Modelo XGBoost com os componentes do PCA"
   ]
  },
  {
   "cell_type": "code",
   "execution_count": 42,
   "metadata": {},
   "outputs": [
    {
     "name": "stdout",
     "output_type": "stream",
     "text": [
      "Acurácia: 87.24%\n"
     ]
    }
   ],
   "source": [
    "# Import do modelo\n",
    "from xgboost import XGBClassifier\n",
    "\n",
    "# Criando o modelo\n",
    "modelo = XGBClassifier()\n",
    "\n",
    "# Treinando o modelo\n",
    "modelo.fit(pca_treino, y_treino)\n",
    "\n",
    "# Fazendo previsões\n",
    "y_pred = modelo.predict(pca_teste)\n",
    "previsoes = [round(value) for value in y_pred]\n",
    "\n",
    "# Avaliando as previsões\n",
    "accuracy = accuracy_score(y_valid, previsoes)\n",
    "print(\"Acurácia: %.2f%%\" % (accuracy * 100.0))"
   ]
  },
  {
   "cell_type": "markdown",
   "metadata": {},
   "source": [
    "# Modelo XGBoost com as features selecionadas por SelectKBest"
   ]
  },
  {
   "cell_type": "code",
   "execution_count": 43,
   "metadata": {},
   "outputs": [
    {
     "name": "stdout",
     "output_type": "stream",
     "text": [
      "Acurácia: 79.12%\n"
     ]
    }
   ],
   "source": [
    "# Features\n",
    "features = [24,27,29,31,33, 38, 63, 90, 193, 280]\n",
    "\n",
    "# Criando o modelo\n",
    "modelo = XGBClassifier()\n",
    "\n",
    "# Treinando o modelo\n",
    "modelo.fit(x_treino[:,features], y_treino)\n",
    "\n",
    "# Fazendo previsões\n",
    "y_pred = modelo.predict(x_valid[:,features])\n",
    "previsoes = [round(value) for value in y_pred]\n",
    "\n",
    "# Avaliando as previsões\n",
    "accuracy = accuracy_score(y_valid, previsoes)\n",
    "print(\"Acurácia: %.2f%%\" % (accuracy * 100.0))"
   ]
  },
  {
   "cell_type": "markdown",
   "metadata": {},
   "source": [
    "# Modelo XGBoost com as features selecionadas por ExtraTreeClassifier"
   ]
  },
  {
   "cell_type": "code",
   "execution_count": 44,
   "metadata": {},
   "outputs": [
    {
     "name": "stdout",
     "output_type": "stream",
     "text": [
      "Acurácia: 91.45%\n"
     ]
    }
   ],
   "source": [
    "# Features\n",
    "features = [325, 328, 323, 277, 329, 326, 331, 324, 1, 368]\n",
    "\n",
    "# Criando o modelo\n",
    "modelo = XGBClassifier()\n",
    "\n",
    "# Treinando o modelo\n",
    "modelo.fit(x_treino[:,features], y_treino)\n",
    "\n",
    "# Fazendo previsões\n",
    "y_pred = modelo.predict(x_valid[:,features])\n",
    "previsoes = [round(value) for value in y_pred]\n",
    "\n",
    "# Avaliando as previsões\n",
    "accuracy = accuracy_score(y_valid, previsoes)\n",
    "print(\"Acurácia: %.2f%%\" % (accuracy * 100.0))"
   ]
  },
  {
   "cell_type": "markdown",
   "metadata": {},
   "source": [
    "# <font color = 'blue'> Conclusão <font>\n",
    "Este era um dataset com um grande número de colunas, muitas delas não tinham correlação com a satisfação do cliente, porém é difícil descobrir isso apenas olhando para os dados. Após um extenso trabalho de manipulação e pré-processamento dos dados, reduzimos as colunas em componentes com o PCA, e também testamos nossos modelos com as variáveis mais importantes. Tivemos a melhor acurácia do modelo XGBoost usando as variáveis escolhidas pelo método ExtraTreeClassifier, com uma porcentagem de acerto de 91.45%."
   ]
  },
  {
   "cell_type": "markdown",
   "metadata": {},
   "source": [
    "# Obrigado\n",
    "### Dener Moreira"
   ]
  }
 ],
 "metadata": {
  "kernelspec": {
   "display_name": "Python 3",
   "language": "python",
   "name": "python3"
  },
  "language_info": {
   "codemirror_mode": {
    "name": "ipython",
    "version": 3
   },
   "file_extension": ".py",
   "mimetype": "text/x-python",
   "name": "python",
   "nbconvert_exporter": "python",
   "pygments_lexer": "ipython3",
   "version": "3.7.3"
  }
 },
 "nbformat": 4,
 "nbformat_minor": 2
}
